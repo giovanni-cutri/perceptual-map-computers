{
 "cells": [
  {
   "cell_type": "markdown",
   "id": "7b68b8e8-4d88-4a6c-96bf-8f3e8add8e15",
   "metadata": {},
   "source": [
    "# Perceptual Mapping for the computers market"
   ]
  },
  {
   "cell_type": "markdown",
   "id": "ac2bef81-a979-4119-a9fd-a7570e589911",
   "metadata": {},
   "source": [
    "Perceptual mapping is a fundamental tool in business analysis which consists in the creation of a map where different brands or products are placed in such a way that the geometric distances between them reflect the perceived distances in the mind of the customers."
   ]
  },
  {
   "cell_type": "markdown",
   "id": "2ac47a6b-dd44-4b4e-9a30-5f0d8b432dfb",
   "metadata": {},
   "source": [
    "It can be very useful for evaluating the current positioning of a brand in the market, assessing the effects of a marketing policy or pondering the possibility of expanding into new segments."
   ]
  },
  {
   "cell_type": "markdown",
   "id": "d93ee679-94ca-4142-bbcd-8bc03f28a5ec",
   "metadata": {},
   "source": [
    "Let's see a practical example using data about consumer evaluations on seven attributes for five computer brands."
   ]
  },
  {
   "cell_type": "code",
   "execution_count": 1,
   "id": "31909d44-a4ad-43a3-a891-c098bbf1b38f",
   "metadata": {},
   "outputs": [],
   "source": [
    "data <- read.csv(\"computers.csv\")"
   ]
  },
  {
   "cell_type": "code",
   "execution_count": 2,
   "id": "1de92f63-e6ce-44aa-8904-4753ce203c83",
   "metadata": {},
   "outputs": [
    {
     "name": "stdout",
     "output_type": "stream",
     "text": [
      "'data.frame':\t5 obs. of  8 variables:\n",
      " $ brand     : chr  \"Apple   \" \"Dell    \" \"Gateway \" \"HP      \" ...\n",
      " $ high_end  : num  5.7 4.81 3.12 3.62 5.58\n",
      " $ stylish   : num  6.01 3.79 3.27 4.16 5.46\n",
      " $ modern    : num  6.04 4.37 2.78 3.77 5.18\n",
      " $ value     : num  2.77 5.12 5.98 4.09 3.1\n",
      " $ dated     : num  3.15 4.29 5.08 4.88 3.27\n",
      " $ innovative: num  4.76 2.56 2.27 2.87 2.97\n",
      " $ business  : num  4.02 4.07 2.93 5.63 3.53\n"
     ]
    }
   ],
   "source": [
    "str(data)"
   ]
  },
  {
   "cell_type": "code",
   "execution_count": 3,
   "id": "cfd47520-a07a-424a-a07a-2e9ca944de75",
   "metadata": {},
   "outputs": [
    {
     "data": {
      "text/html": [
       "<table class=\"dataframe\">\n",
       "<caption>A data.frame: 5 × 8</caption>\n",
       "<thead>\n",
       "\t<tr><th></th><th scope=col>brand</th><th scope=col>high_end</th><th scope=col>stylish</th><th scope=col>modern</th><th scope=col>value</th><th scope=col>dated</th><th scope=col>innovative</th><th scope=col>business</th></tr>\n",
       "\t<tr><th></th><th scope=col>&lt;chr&gt;</th><th scope=col>&lt;dbl&gt;</th><th scope=col>&lt;dbl&gt;</th><th scope=col>&lt;dbl&gt;</th><th scope=col>&lt;dbl&gt;</th><th scope=col>&lt;dbl&gt;</th><th scope=col>&lt;dbl&gt;</th><th scope=col>&lt;dbl&gt;</th></tr>\n",
       "</thead>\n",
       "<tbody>\n",
       "\t<tr><th scope=row>1</th><td>Apple   </td><td>5.704</td><td>6.009</td><td>6.038</td><td>2.773</td><td>3.149</td><td>4.765</td><td>4.023</td></tr>\n",
       "\t<tr><th scope=row>2</th><td>Dell    </td><td>4.809</td><td>3.792</td><td>4.365</td><td>5.123</td><td>4.292</td><td>2.558</td><td>4.069</td></tr>\n",
       "\t<tr><th scope=row>3</th><td>Gateway </td><td>3.119</td><td>3.270</td><td>2.776</td><td>5.983</td><td>5.079</td><td>2.270</td><td>2.934</td></tr>\n",
       "\t<tr><th scope=row>4</th><td>HP      </td><td>3.621</td><td>4.156</td><td>3.765</td><td>4.093</td><td>4.879</td><td>2.871</td><td>5.630</td></tr>\n",
       "\t<tr><th scope=row>5</th><td>Sony    </td><td>5.584</td><td>5.461</td><td>5.177</td><td>3.103</td><td>3.275</td><td>2.968</td><td>3.532</td></tr>\n",
       "</tbody>\n",
       "</table>\n"
      ],
      "text/latex": [
       "A data.frame: 5 × 8\n",
       "\\begin{tabular}{r|llllllll}\n",
       "  & brand & high\\_end & stylish & modern & value & dated & innovative & business\\\\\n",
       "  & <chr> & <dbl> & <dbl> & <dbl> & <dbl> & <dbl> & <dbl> & <dbl>\\\\\n",
       "\\hline\n",
       "\t1 & Apple    & 5.704 & 6.009 & 6.038 & 2.773 & 3.149 & 4.765 & 4.023\\\\\n",
       "\t2 & Dell     & 4.809 & 3.792 & 4.365 & 5.123 & 4.292 & 2.558 & 4.069\\\\\n",
       "\t3 & Gateway  & 3.119 & 3.270 & 2.776 & 5.983 & 5.079 & 2.270 & 2.934\\\\\n",
       "\t4 & HP       & 3.621 & 4.156 & 3.765 & 4.093 & 4.879 & 2.871 & 5.630\\\\\n",
       "\t5 & Sony     & 5.584 & 5.461 & 5.177 & 3.103 & 3.275 & 2.968 & 3.532\\\\\n",
       "\\end{tabular}\n"
      ],
      "text/markdown": [
       "\n",
       "A data.frame: 5 × 8\n",
       "\n",
       "| <!--/--> | brand &lt;chr&gt; | high_end &lt;dbl&gt; | stylish &lt;dbl&gt; | modern &lt;dbl&gt; | value &lt;dbl&gt; | dated &lt;dbl&gt; | innovative &lt;dbl&gt; | business &lt;dbl&gt; |\n",
       "|---|---|---|---|---|---|---|---|---|\n",
       "| 1 | Apple    | 5.704 | 6.009 | 6.038 | 2.773 | 3.149 | 4.765 | 4.023 |\n",
       "| 2 | Dell     | 4.809 | 3.792 | 4.365 | 5.123 | 4.292 | 2.558 | 4.069 |\n",
       "| 3 | Gateway  | 3.119 | 3.270 | 2.776 | 5.983 | 5.079 | 2.270 | 2.934 |\n",
       "| 4 | HP       | 3.621 | 4.156 | 3.765 | 4.093 | 4.879 | 2.871 | 5.630 |\n",
       "| 5 | Sony     | 5.584 | 5.461 | 5.177 | 3.103 | 3.275 | 2.968 | 3.532 |\n",
       "\n"
      ],
      "text/plain": [
       "  brand    high_end stylish modern value dated innovative business\n",
       "1 Apple    5.704    6.009   6.038  2.773 3.149 4.765      4.023   \n",
       "2 Dell     4.809    3.792   4.365  5.123 4.292 2.558      4.069   \n",
       "3 Gateway  3.119    3.270   2.776  5.983 5.079 2.270      2.934   \n",
       "4 HP       3.621    4.156   3.765  4.093 4.879 2.871      5.630   \n",
       "5 Sony     5.584    5.461   5.177  3.103 3.275 2.968      3.532   "
      ]
     },
     "metadata": {},
     "output_type": "display_data"
    }
   ],
   "source": [
    "head(data)"
   ]
  },
  {
   "cell_type": "markdown",
   "id": "33bab988-3f18-45b1-9ec6-4ddb7ef49eeb",
   "metadata": {},
   "source": [
    "Each customer was asked to rate each attribute for each brand by providing a value between 1 and 9; the responses were then averaged across all customers."
   ]
  },
  {
   "cell_type": "markdown",
   "id": "5b298ab3-bc7d-4873-9f30-05badd8302b8",
   "metadata": {},
   "source": [
    "By using the principal components method, we can build the perceptual map."
   ]
  },
  {
   "cell_type": "markdown",
   "id": "dcc86a02-c386-4ee3-b6d6-9e1080500f89",
   "metadata": {},
   "source": [
    "![map](map.png)"
   ]
  },
  {
   "cell_type": "markdown",
   "id": "3afa038d-259c-4b11-8d1f-db1097c4ed6d",
   "metadata": {},
   "source": [
    "The two dimensions can be interpreted as a synthesis of the attributes considered in the analysis.\n",
    "The vectors corresponding to the attributes are helpful to give insights about the brand perception."
   ]
  },
  {
   "cell_type": "markdown",
   "id": "b05d305a-1d2e-48fb-991e-da699b228120",
   "metadata": {},
   "source": [
    "We can see that **Apple** is strongly associated high values for the attributes **innovative**, **stylish**, **modern** and **high end** and is very far from *dated*. It's something we could expect, given the brand's reputation."
   ]
  },
  {
   "cell_type": "markdown",
   "id": "81b0a0f5-f903-4e7b-a3c1-68072d9bb5b3",
   "metadata": {},
   "source": [
    "**Sony** is not too far from Apple and shows similar values, so it is not too distant in the mind of the customers."
   ]
  },
  {
   "cell_type": "markdown",
   "id": "683c9a39-816c-4dad-a708-f7989c167d4d",
   "metadata": {},
   "source": [
    "**Dell** is in the middle and has no strong affinity with any of the attributes, so it is a bit anonymous and not well-recognized."
   ]
  },
  {
   "cell_type": "markdown",
   "id": "6494eff1-1ae8-4641-a1b3-22818131acf4",
   "metadata": {},
   "source": [
    "**Gateway** performs very well on the offering of **good value** to the customers, but is also perceived as **dated** and not very *innovative* or *stylish*."
   ]
  },
  {
   "cell_type": "markdown",
   "id": "fee927cb-1e24-4ff7-8685-e288fa9b9bf7",
   "metadata": {},
   "source": [
    "Finally, **HP** is by far the brand associated the most with the **business** attribute, which referred to the perception of business orientation."
   ]
  }
 ],
 "metadata": {
  "kernelspec": {
   "display_name": "R",
   "language": "R",
   "name": "ir"
  },
  "language_info": {
   "codemirror_mode": "r",
   "file_extension": ".r",
   "mimetype": "text/x-r-source",
   "name": "R",
   "pygments_lexer": "r",
   "version": "4.2.2"
  }
 },
 "nbformat": 4,
 "nbformat_minor": 5
}
